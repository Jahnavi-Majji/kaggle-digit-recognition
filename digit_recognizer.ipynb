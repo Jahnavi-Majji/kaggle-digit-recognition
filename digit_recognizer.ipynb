{
  "nbformat": 4,
  "nbformat_minor": 0,
  "metadata": {
    "colab": {
      "name": "digit_recognizer.ipynb",
      "provenance": [],
      "collapsed_sections": [],
      "authorship_tag": "ABX9TyMnZpNrpuk4M3PbYCbPnyrU",
      "include_colab_link": true
    },
    "kernelspec": {
      "name": "python3",
      "display_name": "Python 3"
    },
    "accelerator": "GPU"
  },
  "cells": [
    {
      "cell_type": "markdown",
      "metadata": {
        "id": "view-in-github",
        "colab_type": "text"
      },
      "source": [
        "<a href=\"https://colab.research.google.com/github/Jahnavi-Majji/kaggle-digit-recognition/blob/main/digit_recognizer.ipynb\" target=\"_parent\"><img src=\"https://colab.research.google.com/assets/colab-badge.svg\" alt=\"Open In Colab\"/></a>"
      ]
    },
    {
      "cell_type": "code",
      "metadata": {
        "id": "laLVJxSbjjlJ"
      },
      "source": [
        "import tensorflow as tf\n",
        "import pandas as pd\n",
        "import numpy as np\n",
        "import matplotlib.pyplot as plt\n",
        "%matplotlib inline"
      ],
      "execution_count": 1,
      "outputs": []
    },
    {
      "cell_type": "code",
      "metadata": {
        "id": "Wa3dGBBJj4_A"
      },
      "source": [
        "from tensorflow.keras.models import Sequential, Model\n",
        "from tensorflow.keras.layers import Conv2D, Flatten, Dropout, MaxPooling2D, BatchNormalization, Dense, Input, Activation\n",
        "from tensorflow.keras.utils import to_categorical\n",
        "from tensorflow.keras.preprocessing.image import ImageDataGenerator\n",
        "from tensorflow.keras.regularizers import l2\n",
        "from tensorflow.keras.callbacks import ReduceLROnPlateau\n",
        "\n",
        "from sklearn.model_selection import train_test_split"
      ],
      "execution_count": 2,
      "outputs": []
    },
    {
      "cell_type": "code",
      "metadata": {
        "colab": {
          "base_uri": "https://localhost:8080/"
        },
        "id": "tETaQ04IlLns",
        "outputId": "7b5aac5f-9f80-441b-b535-aa5a48955a24"
      },
      "source": [
        "print(tf.__version__)"
      ],
      "execution_count": 3,
      "outputs": [
        {
          "output_type": "stream",
          "text": [
            "2.3.0\n"
          ],
          "name": "stdout"
        }
      ]
    },
    {
      "cell_type": "markdown",
      "metadata": {
        "id": "dD-hVdIqlZgM"
      },
      "source": [
        "**CNN Architecture**\n",
        "\n",
        "*(Conv2D => Conv2D => MaxPooling => Dropout ) *2 => Flatten => Fully connected layer => => Dropout => Output*\n",
        "\n"
      ]
    },
    {
      "cell_type": "code",
      "metadata": {
        "id": "_wG76_iQlXbZ"
      },
      "source": [
        "def VGG_model(input_shape = (32, 32, 1), classes = 10):\n",
        "\n",
        "  model = Sequential([\n",
        "            Conv2D(filters = 32, kernel_size= (5, 5), padding= 'Same', activation= 'relu', input_shape= (32, 32, 1)),\n",
        "            Conv2D(filters = 32, kernel_size= (5, 5), padding= 'Same', activation= 'relu', input_shape= (32, 32, 1)),\n",
        "            MaxPooling2D(pool_size= (2, 2), strides=(2, 2)),\n",
        "            Dropout(0.25),\n",
        "            Conv2D(filters = 64, kernel_size= (3, 3), padding= 'Same', activation= 'relu'),\n",
        "            Conv2D(filters = 64, kernel_size= (3, 3), padding= 'Same', activation= 'relu'),\n",
        "            MaxPooling2D(pool_size= (2, 2), strides=(2, 2)),\n",
        "            Dropout(0.25),\n",
        "            Flatten(),\n",
        "            Dense(256, activation= 'relu'),\n",
        "            Dropout(0.25),\n",
        "            Dense(10, activation= 'softmax')\n",
        "  ])\n",
        "  return model"
      ],
      "execution_count": 51,
      "outputs": []
    },
    {
      "cell_type": "code",
      "metadata": {
        "id": "UBUepoUNpVAH",
        "colab": {
          "base_uri": "https://localhost:8080/"
        },
        "outputId": "e6a350d0-ee96-4e5e-ae91-d16e8e2ecddb"
      },
      "source": [
        "Model1 = VGG_model(input_shape=(32, 32, 1), classes = 10)\n",
        "Model1.compile(optimizer= 'rmsprop', metrics= ['accuracy'], loss= 'categorical_crossentropy')\n",
        "Model1.summary()"
      ],
      "execution_count": 52,
      "outputs": [
        {
          "output_type": "stream",
          "text": [
            "Model: \"sequential_4\"\n",
            "_________________________________________________________________\n",
            "Layer (type)                 Output Shape              Param #   \n",
            "=================================================================\n",
            "conv2d_12 (Conv2D)           (None, 32, 32, 32)        832       \n",
            "_________________________________________________________________\n",
            "conv2d_13 (Conv2D)           (None, 32, 32, 32)        25632     \n",
            "_________________________________________________________________\n",
            "max_pooling2d_6 (MaxPooling2 (None, 16, 16, 32)        0         \n",
            "_________________________________________________________________\n",
            "dropout_9 (Dropout)          (None, 16, 16, 32)        0         \n",
            "_________________________________________________________________\n",
            "conv2d_14 (Conv2D)           (None, 16, 16, 64)        18496     \n",
            "_________________________________________________________________\n",
            "conv2d_15 (Conv2D)           (None, 16, 16, 64)        36928     \n",
            "_________________________________________________________________\n",
            "max_pooling2d_7 (MaxPooling2 (None, 8, 8, 64)          0         \n",
            "_________________________________________________________________\n",
            "dropout_10 (Dropout)         (None, 8, 8, 64)          0         \n",
            "_________________________________________________________________\n",
            "flatten_3 (Flatten)          (None, 4096)              0         \n",
            "_________________________________________________________________\n",
            "dense_8 (Dense)              (None, 256)               1048832   \n",
            "_________________________________________________________________\n",
            "dropout_11 (Dropout)         (None, 256)               0         \n",
            "_________________________________________________________________\n",
            "dense_9 (Dense)              (None, 10)                2570      \n",
            "=================================================================\n",
            "Total params: 1,133,290\n",
            "Trainable params: 1,133,290\n",
            "Non-trainable params: 0\n",
            "_________________________________________________________________\n"
          ],
          "name": "stdout"
        }
      ]
    },
    {
      "cell_type": "code",
      "metadata": {
        "id": "dbQo4WlAphPu"
      },
      "source": [
        "data_generator = ImageDataGenerator(\n",
        "    featurewise_center= False,\n",
        "    samplewise_center= False,\n",
        "    zca_whitening= False,\n",
        "    featurewise_std_normalization= False,\n",
        "    samplewise_std_normalization= False,\n",
        "    rotation_range= 10,\n",
        "    width_shift_range= 0.1,\n",
        "    height_shift_range= 0.1, \n",
        "    zoom_range= 0.1,\n",
        "    horizontal_flip= False,\n",
        "    vertical_flip= False\n",
        ")"
      ],
      "execution_count": 7,
      "outputs": []
    },
    {
      "cell_type": "markdown",
      "metadata": {
        "id": "gSXWwCsVq6Io"
      },
      "source": [
        "**Implementing another model LeNet 5**\n",
        "\n",
        "*(Conv2D => Conv2D --> BatchNorm => MaxPooling => Dropout) *2 => Flatten => (Fully Connected => BatchNorm) *3 => Dropout => Output*\n"
      ]
    },
    {
      "cell_type": "code",
      "metadata": {
        "id": "fom-k9XRqS5N"
      },
      "source": [
        "def LeNet5v2(input_shape = (32, 32, 1), classes = 10):\n",
        "    \n",
        "    model = Sequential([\n",
        "    Conv2D(filters = 32, kernel_size = 5, strides = 1, activation = 'relu', input_shape = (32,32,1), kernel_regularizer=l2(0.0005), name = 'convolution_1'),\n",
        "    Conv2D(filters = 32, kernel_size = 5, strides = 1, name = 'convolution_2', use_bias=False),\n",
        "    BatchNormalization(name = 'batchnorm_1'),\n",
        "    Activation(\"relu\"),\n",
        "    MaxPooling2D(pool_size = 2, strides = 2, name = 'max_pool_1'),\n",
        "    Dropout(0.25, name = 'dropout_1'),\n",
        "    Conv2D(filters = 64, kernel_size = 3, strides = 1, activation = 'relu', kernel_regularizer=l2(0.0005), name = 'convolution_3'),\n",
        "    Conv2D(filters = 64, kernel_size = 3, strides = 1, name = 'convolution_4', use_bias=False),\n",
        "    BatchNormalization(name = 'batchnorm_2'),\n",
        "    Activation(\"relu\"),\n",
        "    MaxPooling2D(pool_size = 2, strides = 2, name = 'max_pool_2'),\n",
        "    Dropout(0.25, name = 'dropout_2'),\n",
        "    Flatten(name = 'flatten'),\n",
        "    Dense(units = 256, name = 'fully_connected_1', use_bias=False),\n",
        "    BatchNormalization(name = 'batchnorm_3'),\n",
        "    Activation(\"relu\"),\n",
        "    Dense(units = 128, name = 'fully_connected_2', use_bias=False),\n",
        "    BatchNormalization(name = 'batchnorm_4'),\n",
        "    Activation(\"relu\"),\n",
        "    Dense(units = 84, name = 'fully_connected_3', use_bias=False),\n",
        "    BatchNormalization(name = 'batchnorm_5'),\n",
        "    Activation(\"relu\"),\n",
        "    Dropout(0.25, name = 'dropout_3'),\n",
        "    Dense(units = 10, activation = 'softmax', name = 'output')\n",
        "        \n",
        "    ])\n",
        "    \n",
        "    model._name = 'LeNet5v2'\n",
        "\n",
        "    return model"
      ],
      "execution_count": 44,
      "outputs": []
    },
    {
      "cell_type": "code",
      "metadata": {
        "id": "BQ4ojT6yts2C"
      },
      "source": [
        "LeNet5Model = LeNet5v2(input_shape = (32, 32, 1), classes = 10)"
      ],
      "execution_count": 45,
      "outputs": []
    },
    {
      "cell_type": "code",
      "metadata": {
        "id": "8Nl5qg7QuNlX",
        "colab": {
          "base_uri": "https://localhost:8080/"
        },
        "outputId": "26f92bb1-7662-4c05-fb86-c7f36063c3d3"
      },
      "source": [
        "LeNet5Model.compile(optimizer='adam', loss='categorical_crossentropy', metrics=['accuracy'])\n",
        "LeNet5Model.summary()"
      ],
      "execution_count": 46,
      "outputs": [
        {
          "output_type": "stream",
          "text": [
            "Model: \"LeNet5v2\"\n",
            "_________________________________________________________________\n",
            "Layer (type)                 Output Shape              Param #   \n",
            "=================================================================\n",
            "convolution_1 (Conv2D)       (None, 28, 28, 32)        832       \n",
            "_________________________________________________________________\n",
            "convolution_2 (Conv2D)       (None, 24, 24, 32)        25600     \n",
            "_________________________________________________________________\n",
            "batchnorm_1 (BatchNormalizat (None, 24, 24, 32)        128       \n",
            "_________________________________________________________________\n",
            "activation_2 (Activation)    (None, 24, 24, 32)        0         \n",
            "_________________________________________________________________\n",
            "max_pool_1 (MaxPooling2D)    (None, 12, 12, 32)        0         \n",
            "_________________________________________________________________\n",
            "dropout_1 (Dropout)          (None, 12, 12, 32)        0         \n",
            "_________________________________________________________________\n",
            "convolution_3 (Conv2D)       (None, 10, 10, 64)        18496     \n",
            "_________________________________________________________________\n",
            "convolution_4 (Conv2D)       (None, 8, 8, 64)          36864     \n",
            "_________________________________________________________________\n",
            "batchnorm_2 (BatchNormalizat (None, 8, 8, 64)          256       \n",
            "_________________________________________________________________\n",
            "activation_3 (Activation)    (None, 8, 8, 64)          0         \n",
            "_________________________________________________________________\n",
            "max_pool_2 (MaxPooling2D)    (None, 4, 4, 64)          0         \n",
            "_________________________________________________________________\n",
            "dropout_2 (Dropout)          (None, 4, 4, 64)          0         \n",
            "_________________________________________________________________\n",
            "flatten (Flatten)            (None, 1024)              0         \n",
            "_________________________________________________________________\n",
            "fully_connected_1 (Dense)    (None, 256)               262144    \n",
            "_________________________________________________________________\n",
            "batchnorm_3 (BatchNormalizat (None, 256)               1024      \n",
            "_________________________________________________________________\n",
            "activation_4 (Activation)    (None, 256)               0         \n",
            "_________________________________________________________________\n",
            "fully_connected_2 (Dense)    (None, 128)               32768     \n",
            "_________________________________________________________________\n",
            "batchnorm_4 (BatchNormalizat (None, 128)               512       \n",
            "_________________________________________________________________\n",
            "activation_5 (Activation)    (None, 128)               0         \n",
            "_________________________________________________________________\n",
            "fully_connected_3 (Dense)    (None, 84)                10752     \n",
            "_________________________________________________________________\n",
            "batchnorm_5 (BatchNormalizat (None, 84)                336       \n",
            "_________________________________________________________________\n",
            "activation_6 (Activation)    (None, 84)                0         \n",
            "_________________________________________________________________\n",
            "dropout_3 (Dropout)          (None, 84)                0         \n",
            "_________________________________________________________________\n",
            "output (Dense)               (None, 10)                850       \n",
            "=================================================================\n",
            "Total params: 390,562\n",
            "Trainable params: 389,434\n",
            "Non-trainable params: 1,128\n",
            "_________________________________________________________________\n"
          ],
          "name": "stdout"
        }
      ]
    },
    {
      "cell_type": "code",
      "metadata": {
        "id": "H9kOJhZ-udZh"
      },
      "source": [
        "%matplotlib inline\n",
        "import matplotlib.image  as mpimg\n",
        "\n",
        "def plot_graphs(history):\n",
        "  acc = history.history['accuracy']\n",
        "  val_acc = history.history['val_accuracy']\n",
        "  loss = history.history['loss']\n",
        "  val_loss = history.history['val_loss']\n",
        "  epoch = range(len(acc))\n",
        "\n",
        "  #plot accuracy\n",
        "  plt.plot(epoch, acc, 'r', \"Train Accuracy\")\n",
        "  plt.plot(epoch, val_acc, 'b', \"Dev Accuracy\")\n",
        "  plt.figure()\n",
        "\n",
        "  #plot losses\n",
        "  plt.plot(epoch, loss, 'r', \"Train Loss\")\n",
        "  plt.plot(epoch, val_loss, 'b', \"Dev Loss\")\n",
        "  plt.figure()"
      ],
      "execution_count": 11,
      "outputs": []
    },
    {
      "cell_type": "code",
      "metadata": {
        "colab": {
          "base_uri": "https://localhost:8080/"
        },
        "id": "BuTHeehamv_N",
        "outputId": "d6b4af34-ffd4-4d4b-efa3-f5416a13c9ea"
      },
      "source": [
        "#loading the dataset from google drive\n",
        "from google.colab import drive\n",
        "drive.mount('/content/gdrive')"
      ],
      "execution_count": 25,
      "outputs": [
        {
          "output_type": "stream",
          "text": [
            "Drive already mounted at /content/gdrive; to attempt to forcibly remount, call drive.mount(\"/content/gdrive\", force_remount=True).\n"
          ],
          "name": "stdout"
        }
      ]
    },
    {
      "cell_type": "code",
      "metadata": {
        "id": "us4p024hnGs5"
      },
      "source": [
        "path = '/content/gdrive/My Drive/Colab Notebooks/data'"
      ],
      "execution_count": 26,
      "outputs": []
    },
    {
      "cell_type": "code",
      "metadata": {
        "colab": {
          "base_uri": "https://localhost:8080/"
        },
        "id": "XXgCrpyyoOPy",
        "outputId": "2c96a943-0e8b-4278-d426-ded36a2382a5"
      },
      "source": [
        "import os\n",
        "os.listdir(path)"
      ],
      "execution_count": 27,
      "outputs": [
        {
          "output_type": "execute_result",
          "data": {
            "text/plain": [
              "['dataset', 'test.csv', 'train.csv']"
            ]
          },
          "metadata": {
            "tags": []
          },
          "execution_count": 27
        }
      ]
    },
    {
      "cell_type": "code",
      "metadata": {
        "id": "ZemyZmvloQGD"
      },
      "source": [
        "train = pd.read_csv(path + '/train.csv')\n",
        "test = pd.read_csv(path + '/test.csv')"
      ],
      "execution_count": 28,
      "outputs": []
    },
    {
      "cell_type": "code",
      "metadata": {
        "colab": {
          "base_uri": "https://localhost:8080/"
        },
        "id": "ELBQVaMdpGSR",
        "outputId": "4f93dbc6-05c8-4d9b-8992-cab52229e068"
      },
      "source": [
        "Y = train[['label']]\n",
        "X = train.drop(train.columns[[0]], axis = 1)\n",
        "\n",
        "X = X.values.reshape(-1,28,28,1)\n",
        "test = test.values.reshape(-1,28,28,1)\n",
        "\n",
        "print(\"Size of Dataset: \" , len(X))"
      ],
      "execution_count": 29,
      "outputs": [
        {
          "output_type": "stream",
          "text": [
            "Size of Dataset:  42000\n"
          ],
          "name": "stdout"
        }
      ]
    },
    {
      "cell_type": "code",
      "metadata": {
        "id": "QBwwdJVhqz0I"
      },
      "source": [
        "dev_set_size = int(len(X) * 0.05)\n",
        "x_train, x_dev, y_train, y_dev = train_test_split(X, Y, test_size = dev_set_size, random_state = 42)"
      ],
      "execution_count": 30,
      "outputs": []
    },
    {
      "cell_type": "code",
      "metadata": {
        "colab": {
          "base_uri": "https://localhost:8080/"
        },
        "id": "C0kwtRv3sZr7",
        "outputId": "70d99825-edd0-4e18-c5ea-c17b2ad958f7"
      },
      "source": [
        "x_test = test\n",
        "print(\"Size of dev set: \", dev_set_size)"
      ],
      "execution_count": 31,
      "outputs": [
        {
          "output_type": "stream",
          "text": [
            "Size of dev set:  2100\n"
          ],
          "name": "stdout"
        }
      ]
    },
    {
      "cell_type": "code",
      "metadata": {
        "colab": {
          "base_uri": "https://localhost:8080/",
          "height": 282
        },
        "id": "Qkv1-V2RssiY",
        "outputId": "e4384998-c680-40ea-b0de-e5a167200017"
      },
      "source": [
        "plt.imshow(x_train[0][:, :, 0])"
      ],
      "execution_count": 32,
      "outputs": [
        {
          "output_type": "execute_result",
          "data": {
            "text/plain": [
              "<matplotlib.image.AxesImage at 0x7f53c01fc828>"
            ]
          },
          "metadata": {
            "tags": []
          },
          "execution_count": 32
        },
        {
          "output_type": "display_data",
          "data": {
            "image/png": "[encoded data removed]",
            "text/plain": [
              "<Figure size 432x288 with 1 Axes>"
            ]
          },
          "metadata": {
            "tags": [],
            "needs_background": "light"
          }
        }
      ]
    },
    {
      "cell_type": "code",
      "metadata": {
        "id": "qszJcuG1s354"
      },
      "source": [
        "#convert into numpy arrays\n",
        "x_train = np.array(x_train)\n",
        "x_dev = np.array(x_dev)\n",
        "x_test = np.array(x_test)"
      ],
      "execution_count": 33,
      "outputs": []
    },
    {
      "cell_type": "code",
      "metadata": {
        "id": "ajurmvqatTzn"
      },
      "source": [
        "#padding the image by 2 pixels\n",
        "x_train = np.pad(x_train, ((0,0),(2,2),(2,2),(0,0)), 'constant')\n",
        "x_dev = np.pad(x_dev, ((0,0),(2,2),(2,2),(0,0)), 'constant')\n",
        "x_test = np.pad(x_test, ((0,0),(2,2),(2,2),(0,0)), 'constant')"
      ],
      "execution_count": 34,
      "outputs": []
    },
    {
      "cell_type": "code",
      "metadata": {
        "id": "Cm3-0FvltoU9"
      },
      "source": [
        "#normalization\n",
        "mean = x_train.mean().astype(np.float32)\n",
        "std = x_train.std().astype(np.float32)\n",
        "x_train = (x_train - mean) / std\n",
        "\n",
        "mean = x_dev.mean().astype(np.float32)\n",
        "std = x_dev.std().astype(np.float32)\n",
        "x_dev = (x_dev - mean) / std\n",
        "\n",
        "mean = x_test.mean().astype(np.float32)\n",
        "std = x_test.std().astype(np.float32)\n",
        "x_test = (x_test - mean) / std\n"
      ],
      "execution_count": 35,
      "outputs": []
    },
    {
      "cell_type": "code",
      "metadata": {
        "id": "AUWRHgEbvG0I"
      },
      "source": [
        "y_train = to_categorical(y_train, num_classes = 10)\n",
        "y_dev = to_categorical(y_dev, num_classes = 10)"
      ],
      "execution_count": 36,
      "outputs": []
    },
    {
      "cell_type": "code",
      "metadata": {
        "id": "NQSZHXHHvxFe"
      },
      "source": [
        "lr = ReduceLROnPlateau(monitor = 'val_loss', factor = 0.2, patience = 2)"
      ],
      "execution_count": 37,
      "outputs": []
    },
    {
      "cell_type": "code",
      "metadata": {
        "colab": {
          "base_uri": "https://localhost:8080/"
        },
        "id": "ER6n569rwBPj",
        "outputId": "0d7d152c-5e1b-4249-afc0-e6b04ac30ddb"
      },
      "source": [
        "history = LeNet5Model.fit(x_train, y_train, epochs = 30, batch_size = 64, callbacks = [lr], validation_data = (x_dev,y_dev))"
      ],
      "execution_count": 48,
      "outputs": [
        {
          "output_type": "stream",
          "text": [
            "Epoch 1/30\n",
            "624/624 [==============================] - 8s 13ms/step - loss: 0.2580 - accuracy: 0.9332 - val_loss: 0.0873 - val_accuracy: 0.9790\n",
            "Epoch 2/30\n",
            "624/624 [==============================] - 7s 12ms/step - loss: 0.0956 - accuracy: 0.9778 - val_loss: 0.0751 - val_accuracy: 0.9814\n",
            "Epoch 3/30\n",
            "624/624 [==============================] - 7s 12ms/step - loss: 0.0769 - accuracy: 0.9816 - val_loss: 0.0582 - val_accuracy: 0.9862\n",
            "Epoch 4/30\n",
            "624/624 [==============================] - 7s 12ms/step - loss: 0.0651 - accuracy: 0.9847 - val_loss: 0.0425 - val_accuracy: 0.9924\n",
            "Epoch 5/30\n",
            "624/624 [==============================] - 7s 12ms/step - loss: 0.0556 - accuracy: 0.9868 - val_loss: 0.0542 - val_accuracy: 0.9881\n",
            "Epoch 6/30\n",
            "624/624 [==============================] - 8s 12ms/step - loss: 0.0500 - accuracy: 0.9877 - val_loss: 0.0678 - val_accuracy: 0.9819\n",
            "Epoch 7/30\n",
            "624/624 [==============================] - 7s 12ms/step - loss: 0.0362 - accuracy: 0.9921 - val_loss: 0.0278 - val_accuracy: 0.9933\n",
            "Epoch 8/30\n",
            "624/624 [==============================] - 7s 12ms/step - loss: 0.0293 - accuracy: 0.9935 - val_loss: 0.0298 - val_accuracy: 0.9919\n",
            "Epoch 9/30\n",
            "624/624 [==============================] - 7s 12ms/step - loss: 0.0269 - accuracy: 0.9942 - val_loss: 0.0304 - val_accuracy: 0.9933\n",
            "Epoch 10/30\n",
            "624/624 [==============================] - 7s 12ms/step - loss: 0.0240 - accuracy: 0.9949 - val_loss: 0.0263 - val_accuracy: 0.9924\n",
            "Epoch 11/30\n",
            "624/624 [==============================] - 7s 12ms/step - loss: 0.0214 - accuracy: 0.9959 - val_loss: 0.0253 - val_accuracy: 0.9929\n",
            "Epoch 12/30\n",
            "624/624 [==============================] - 7s 12ms/step - loss: 0.0225 - accuracy: 0.9952 - val_loss: 0.0244 - val_accuracy: 0.9933\n",
            "Epoch 13/30\n",
            "624/624 [==============================] - 7s 12ms/step - loss: 0.0205 - accuracy: 0.9960 - val_loss: 0.0245 - val_accuracy: 0.9924\n",
            "Epoch 14/30\n",
            "624/624 [==============================] - 7s 12ms/step - loss: 0.0190 - accuracy: 0.9964 - val_loss: 0.0232 - val_accuracy: 0.9943\n",
            "Epoch 15/30\n",
            "624/624 [==============================] - 7s 12ms/step - loss: 0.0205 - accuracy: 0.9959 - val_loss: 0.0240 - val_accuracy: 0.9929\n",
            "Epoch 16/30\n",
            "624/624 [==============================] - 7s 12ms/step - loss: 0.0199 - accuracy: 0.9961 - val_loss: 0.0235 - val_accuracy: 0.9938\n",
            "Epoch 17/30\n",
            "624/624 [==============================] - 7s 12ms/step - loss: 0.0179 - accuracy: 0.9966 - val_loss: 0.0232 - val_accuracy: 0.9938\n",
            "Epoch 18/30\n",
            "624/624 [==============================] - 7s 12ms/step - loss: 0.0181 - accuracy: 0.9966 - val_loss: 0.0236 - val_accuracy: 0.9933\n",
            "Epoch 19/30\n",
            "624/624 [==============================] - 7s 12ms/step - loss: 0.0180 - accuracy: 0.9968 - val_loss: 0.0234 - val_accuracy: 0.9933\n",
            "Epoch 20/30\n",
            "624/624 [==============================] - 7s 12ms/step - loss: 0.0188 - accuracy: 0.9965 - val_loss: 0.0235 - val_accuracy: 0.9933\n",
            "Epoch 21/30\n",
            "624/624 [==============================] - 7s 12ms/step - loss: 0.0189 - accuracy: 0.9960 - val_loss: 0.0239 - val_accuracy: 0.9933\n",
            "Epoch 22/30\n",
            "624/624 [==============================] - 7s 12ms/step - loss: 0.0181 - accuracy: 0.9968 - val_loss: 0.0236 - val_accuracy: 0.9933\n",
            "Epoch 23/30\n",
            "624/624 [==============================] - 7s 12ms/step - loss: 0.0177 - accuracy: 0.9966 - val_loss: 0.0239 - val_accuracy: 0.9933\n",
            "Epoch 24/30\n",
            "624/624 [==============================] - 7s 12ms/step - loss: 0.0187 - accuracy: 0.9965 - val_loss: 0.0235 - val_accuracy: 0.9933\n",
            "Epoch 25/30\n",
            "624/624 [==============================] - 7s 12ms/step - loss: 0.0184 - accuracy: 0.9961 - val_loss: 0.0234 - val_accuracy: 0.9933\n",
            "Epoch 26/30\n",
            "624/624 [==============================] - 7s 12ms/step - loss: 0.0187 - accuracy: 0.9962 - val_loss: 0.0233 - val_accuracy: 0.9933\n",
            "Epoch 27/30\n",
            "624/624 [==============================] - 7s 12ms/step - loss: 0.0176 - accuracy: 0.9968 - val_loss: 0.0235 - val_accuracy: 0.9933\n",
            "Epoch 28/30\n",
            "624/624 [==============================] - 7s 12ms/step - loss: 0.0176 - accuracy: 0.9967 - val_loss: 0.0237 - val_accuracy: 0.9933\n",
            "Epoch 29/30\n",
            "624/624 [==============================] - 7s 12ms/step - loss: 0.0179 - accuracy: 0.9967 - val_loss: 0.0233 - val_accuracy: 0.9933\n",
            "Epoch 30/30\n",
            "624/624 [==============================] - 7s 12ms/step - loss: 0.0184 - accuracy: 0.9962 - val_loss: 0.0236 - val_accuracy: 0.9933\n"
          ],
          "name": "stdout"
        }
      ]
    },
    {
      "cell_type": "code",
      "metadata": {
        "id": "WtXCRg8I1GqS",
        "outputId": "34196d4a-a09f-432f-faab-8750787c5662",
        "colab": {
          "base_uri": "https://localhost:8080/"
        }
      },
      "source": [
        "print(\"Plotting Graphs for LeNet5 Model\")"
      ],
      "execution_count": 54,
      "outputs": [
        {
          "output_type": "stream",
          "text": [
            "Plotting Graphs for LeNet5 Model\n"
          ],
          "name": "stdout"
        }
      ]
    },
    {
      "cell_type": "code",
      "metadata": {
        "id": "v-uMmR_QzoK7",
        "outputId": "da4936cf-f8ca-486d-ab6a-d3ce178af5b6",
        "colab": {
          "base_uri": "https://localhost:8080/",
          "height": 530
        }
      },
      "source": [
        "plot_graphs(history)"
      ],
      "execution_count": 49,
      "outputs": [
        {
          "output_type": "display_data",
          "data": {
            "image/png": "[encoded data removed]",
            "text/plain": [
              "<Figure size 432x288 with 1 Axes>"
            ]
          },
          "metadata": {
            "tags": [],
            "needs_background": "light"
          }
        },
        {
          "output_type": "display_data",
          "data": {
            "image/png": "[encoded data removed]",
            "text/plain": [
              "<Figure size 432x288 with 1 Axes>"
            ]
          },
          "metadata": {
            "tags": [],
            "needs_background": "light"
          }
        },
        {
          "output_type": "display_data",
          "data": {
            "text/plain": [
              "<Figure size 432x288 with 0 Axes>"
            ]
          },
          "metadata": {
            "tags": []
          }
        }
      ]
    },
    {
      "cell_type": "code",
      "metadata": {
        "id": "880ny8N9xzde"
      },
      "source": [
        "results = LeNet5Model.predict(x_test)\n",
        "results = np.argmax(results,axis = 1)\n",
        "results = pd.Series(results,name=\"Label\")\n",
        "\n",
        "submission = pd.concat([pd.Series(range(1,28001),name = \"ImageId\"),results],axis = 1)\n",
        "submission.to_csv(\"LeNetv2.csv\",index=False)"
      ],
      "execution_count": 56,
      "outputs": []
    },
    {
      "cell_type": "code",
      "metadata": {
        "id": "KGmbxSisz3N-"
      },
      "source": [
        ""
      ],
      "execution_count": null,
      "outputs": []
    }
  ]
}